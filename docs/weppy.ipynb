{
 "metadata": {
  "name": ""
 },
 "nbformat": 3,
 "nbformat_minor": 0,
 "worksheets": [
  {
   "cells": [
    {
     "cell_type": "code",
     "collapsed": false,
     "input": [
      "# you would normaly install eppy by doing\n",
      "# python setup.py install\n",
      "# or\n",
      "# pip install eppy\n",
      "# or\n",
      "# easy_install eppy\n",
      "\n",
      "# if you have not done so, uncomment the following three lines\n",
      "import sys\n",
      "# pathnameto_eppy = 'c:/eppy'\n",
      "pathnameto_eppy = '../'\n",
      "sys.path.append(pathnameto_eppy) \n",
      "\n",
      "from eppy import modeleditor \n",
      "from eppy.modeleditor import IDF\n",
      "import StringIO\n",
      "\n",
      "# iddfile = \"../eppy/resources/iddfiles/Energy+V7_2_0.idd\"\n",
      "# fname1 = \"../eppy/resources/idffiles/V_7_2/smallfile.idf\"\n",
      "# IDF.setiddname(iddfile)\n",
      "# idf = IDF(fname1)"
     ],
     "language": "python",
     "metadata": {},
     "outputs": [],
     "prompt_number": 1
    },
    {
     "cell_type": "code",
     "collapsed": false,
     "input": [
      "iddtxt = "
     ],
     "language": "python",
     "metadata": {},
     "outputs": []
    },
    {
     "cell_type": "code",
     "collapsed": false,
     "input": [
      "\n",
      "fname = StringIO.StringIO(\"\")\n",
      "from eppy.EPlusInterfaceFunctions import readidf\n",
      "block, data, commdct, idd_index = readidf.readdatacommdct1(\n",
      "    fname,\n",
      "    iddfile=iddfile,\n",
      "    commdct=None,\n",
      "    block=None)"
     ],
     "language": "python",
     "metadata": {},
     "outputs": []
    }
   ],
   "metadata": {}
  }
 ]
}